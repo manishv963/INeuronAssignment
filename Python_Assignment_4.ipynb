{
 "cells": [
  {
   "cell_type": "markdown",
   "metadata": {},
   "source": [
    "## 1 Write a Python Program(with class concepts) to find the area of the triangle using the below formula. <br>\n",
    "## area = (s*(s-a)*(s-b)*(s-c)) ** 0.5\n",
    "## Function to take the length of the sides of triangle from user should be defined in the parent class and function to calculate the area should be defined in subclass.)\n"
   ]
  },
  {
   "cell_type": "code",
   "execution_count": 36,
   "metadata": {},
   "outputs": [],
   "source": [
    "class Parent:\n",
    "    a = 0\n",
    "    b = 0\n",
    "    c = 0\n",
    "    def takeInput(self):\n",
    "        Parent.a = input(\"Enter side A of triangle \")\n",
    "        Parent.b = input(\"Enter side B of triangle \")\n",
    "        Parent.c = input(\"Enter side C of triangle \")\n",
    "    \n",
    "   \n",
    "    \n"
   ]
  },
  {
   "cell_type": "code",
   "execution_count": 79,
   "metadata": {},
   "outputs": [],
   "source": [
    "class Child(Parent):\n",
    "    def area(self):\n",
    "        Parent.takeInput(self)\n",
    "        s = (int(Parent.a)+int(Parent.b)+int(Parent.c))/2\n",
    "        area = (s * (s - int(Parent.a))*(s -int(Parent.b))*(s - int(Parent.c))) ** 0.5\n",
    "        return round(area,3)\n",
    "        \n",
    "    "
   ]
  },
  {
   "cell_type": "code",
   "execution_count": 80,
   "metadata": {},
   "outputs": [],
   "source": [
    "x = Child()\n"
   ]
  },
  {
   "cell_type": "code",
   "execution_count": 81,
   "metadata": {},
   "outputs": [
    {
     "name": "stdout",
     "output_type": "stream",
     "text": [
      "Enter side A of triangle 5\n",
      "Enter side B of triangle 6\n",
      "Enter side C of triangle 7\n",
      "The area is  14.697\n"
     ]
    }
   ],
   "source": [
    "area = x.area()\n",
    "print(\"The area is \",area)"
   ]
  },
  {
   "cell_type": "code",
   "execution_count": 100,
   "metadata": {},
   "outputs": [],
   "source": [
    "def filter_long_words(list1, minlen):\n",
    "    \n",
    "    filteredList = []\n",
    "    for word in list1:\n",
    "        if len(word) > minlen:\n",
    "           \n",
    "            filteredList.append(word)\n",
    "    return filteredList"
   ]
  },
  {
   "cell_type": "code",
   "execution_count": 106,
   "metadata": {},
   "outputs": [
    {
     "name": "stdout",
     "output_type": "stream",
     "text": [
      "['manish', 'shubham', 'kishore', 'deepak']\n"
     ]
    }
   ],
   "source": [
    "words= ['man','mani','manish','shubham','kishore','deepak','rohit']\n",
    "longWords= filter_long_words(words,5)\n",
    "print(longWords)"
   ]
  },
  {
   "cell_type": "markdown",
   "metadata": {},
   "source": [
    "### Write a Python program using function concept that maps list of words into a list of integers\n",
    "### representing the lengths of the corresponding words.\n",
    "### Hint: If a list [ ab,cde,erty] is passed on to the python function output should come as [2,3,4]\n",
    "### Here 2,3 and 4 are the lengths of the words in the list."
   ]
  },
  {
   "cell_type": "code",
   "execution_count": 109,
   "metadata": {},
   "outputs": [
    {
     "name": "stdout",
     "output_type": "stream",
     "text": [
      "[3, 4, 6, 7, 7, 6, 5]\n"
     ]
    }
   ],
   "source": [
    "def calculateLength(list1):\n",
    "    lengthList =[]\n",
    "    for word in list1:\n",
    "        lengthList.append(len(word))\n",
    "    return lengthList\n",
    "lengthList= calculateLength(words)\n",
    "print(lengthList)"
   ]
  },
  {
   "cell_type": "markdown",
   "metadata": {},
   "source": [
    "## Write a Python function which takes a character (i.e. a string of length 1) and returns True if it is a vowel, False otherwise."
   ]
  },
  {
   "cell_type": "code",
   "execution_count": 115,
   "metadata": {},
   "outputs": [
    {
     "data": {
      "text/plain": [
       "True"
      ]
     },
     "execution_count": 115,
     "metadata": {},
     "output_type": "execute_result"
    }
   ],
   "source": [
    "def isVowel(char):\n",
    "    char = str.lower(char)\n",
    "    if char in ['a','e','i','o','u']:\n",
    "        return True\n",
    "    else:\n",
    "        return False\n",
    "isVowel('e')"
   ]
  },
  {
   "cell_type": "code",
   "execution_count": null,
   "metadata": {},
   "outputs": [],
   "source": []
  }
 ],
 "metadata": {
  "kernelspec": {
   "display_name": "Python 3",
   "language": "python",
   "name": "python3"
  },
  "language_info": {
   "codemirror_mode": {
    "name": "ipython",
    "version": 3
   },
   "file_extension": ".py",
   "mimetype": "text/x-python",
   "name": "python",
   "nbconvert_exporter": "python",
   "pygments_lexer": "ipython3",
   "version": "3.7.3"
  }
 },
 "nbformat": 4,
 "nbformat_minor": 2
}
